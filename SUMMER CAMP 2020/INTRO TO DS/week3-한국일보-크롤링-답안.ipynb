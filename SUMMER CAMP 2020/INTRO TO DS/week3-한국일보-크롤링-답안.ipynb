{
 "cells": [
  {
   "cell_type": "code",
   "execution_count": null,
   "metadata": {},
   "outputs": [],
   "source": [
    "import re\n",
    "\n",
    "titles=[]\n",
    "for n in range(1,6):\n",
    "    url = 'https://www.hankookilbo.com/News/Society/HC01?Page=' + str(n)\n",
    "    page = urlopen(url)\n",
    "    soup = BeautifulSoup(page, \"html.parser\")\n",
    "    title = soup.find_all('h3')\n",
    "    for n in title:\n",
    "        a = re.sub('[\\\\r\\\\n]','',n.get_text())\n",
    "        a = re.sub('\\\\xa0','',a)\n",
    "        titles.append(a)\n",
    "        \n",
    "for tmp in titles:\n",
    "    print(tmp)"
   ]
  }
 ],
 "metadata": {
  "kernelspec": {
   "display_name": "Python 3",
   "language": "python",
   "name": "python3"
  },
  "language_info": {
   "codemirror_mode": {
    "name": "ipython",
    "version": 3
   },
   "file_extension": ".py",
   "mimetype": "text/x-python",
   "name": "python",
   "nbconvert_exporter": "python",
   "pygments_lexer": "ipython3",
   "version": "3.7.6"
  }
 },
 "nbformat": 4,
 "nbformat_minor": 4
}
