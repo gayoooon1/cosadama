{
 "cells": [
  {
   "cell_type": "markdown",
   "metadata": {},
   "source": [
    "## 정답 😚"
   ]
  },
  {
   "cell_type": "code",
   "execution_count": 7,
   "metadata": {},
   "outputs": [],
   "source": [
    "from urllib.request import urlopen \n",
    "from urllib.parse import urljoin\n",
    "from bs4 import BeautifulSoup\n",
    "import openpyxl\n",
    "import re\n",
    "\n",
    "excel_file = openpyxl.Workbook()\n",
    "excel_file.remove(excel_file.active)\n",
    "excel_sheet = excel_file.create_sheet('사회뉴스')  # sheet 이름 작성 \n",
    "excel_sheet.column_dimensions['B'].width = 100   # 컬럼 크기 정하기 \n",
    "\n",
    "excel_sheet.append(['번호','제목','URL']) #sheet에 표제목 넣기 \n",
    "\n",
    "num = 0\n",
    "for n in range(1,6):\n",
    "    url = 'https://www.hankookilbo.com/News/Society/HC01?Page=' + str(n)\n",
    "    page = urlopen(url)\n",
    "    soup = BeautifulSoup(page, \"html.parser\")\n",
    "    title = soup.find_all('h3') # 기사 제목 태그\n",
    "    \n",
    "    # print(type(title) <class 'bs4.element.ResultSet'> find 사용 불가\n",
    "    \n",
    "    for tmp in title:\n",
    "        url_base = 'https://www.hankookilbo.com' # 기사 url 절대경로로 만들기 위해서\n",
    "        real_url = urljoin(url_base, tmp.find('a')['href'])\n",
    "        real_title = re.sub('\\\\xa0|\\r\\n','', tmp.get_text()) # 기사제목 정규표현식 처리\n",
    "        num += 1\n",
    "        excel_sheet.append([num, real_title, real_url])\n",
    "\n",
    "\n",
    "\n",
    "cell_A1 = excel_sheet['A1']\n",
    "cell_A1.alignment = openpyxl.styles.Alignment(horizontal=\"center\")  # A1 양식 center로!\n",
    "cell_B1 = excel_sheet['B1']\n",
    "cell_B1.alignment = openpyxl.styles.Alignment(horizontal=\"center\")  # B1 양식 center로!\n",
    "\n",
    "excel_file.save('한국일보 사회 기사 1~5쪽 타이틀 크롤링.xlsx')\n",
    "excel_file.close()"
   ]
  },
  {
   "cell_type": "markdown",
   "metadata": {},
   "source": [
    "https://www.hankookilbo.com/News/Read/A2020072911290001903"
   ]
  }
 ],
 "metadata": {
  "kernelspec": {
   "display_name": "Python 3",
   "language": "python",
   "name": "python3"
  },
  "language_info": {
   "codemirror_mode": {
    "name": "ipython",
    "version": 3
   },
   "file_extension": ".py",
   "mimetype": "text/x-python",
   "name": "python",
   "nbconvert_exporter": "python",
   "pygments_lexer": "ipython3",
   "version": "3.7.6"
  }
 },
 "nbformat": 4,
 "nbformat_minor": 4
}
