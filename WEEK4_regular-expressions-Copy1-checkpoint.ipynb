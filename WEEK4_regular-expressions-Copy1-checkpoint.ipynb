{
 "cells": [
  {
   "cell_type": "markdown",
   "metadata": {},
   "source": [
    "# 데이터 분석에서 정규표현식이 필요한 이유?\n",
    "\n",
    "1. 분석에 불필요한 숫자, 문자 등을 제거, 대체하기 위해서\n",
    "2. 필요한 문자, 숫자만을 찾아 구분짓기 위해서"
   ]
  },
  {
   "cell_type": "markdown",
   "metadata": {},
   "source": [
    "# 🦉 도전 과제 1\n",
    "\n",
    "주민번호 뒷자리를 * 로 바꿔서 가려보기\n",
    "re.sub('-------', '------', each_row[1].value) <--- 정규표현식, 바꿀문자열 을 넣어봅니다."
   ]
  },
  {
   "cell_type": "code",
   "execution_count": 79,
   "metadata": {},
   "outputs": [
    {
     "name": "stdout",
     "output_type": "stream",
     "text": [
      "주민등록번호\n",
      "800215-*******\n",
      "821030-*******\n",
      "841230-*******\n",
      "790903-*******\n",
      "800125-*******\n",
      "820612-*******\n"
     ]
    }
   ],
   "source": [
    "import openpyxl\n",
    "work_book = openpyxl.load_workbook('C:\\\\Users\\\\Owner\\\\Documents\\\\DataScience\\\\data\\\\data_kr.xlsx')\n",
    "work_sheet = work_book.active\n",
    "for each_row in work_sheet.rows:\n",
    "    print(re.sub('[-]\\d{7}', '-*******', each_row[1].value))\n",
    "\n",
    "work_book.close()"
   ]
  },
  {
   "cell_type": "markdown",
   "metadata": {},
   "source": [
    "# 🦉 도전 과제 2\n",
    "\n",
    "다음과 같은 문자열에서 휴대폰 번호 뒷자리인 숫자 4개를 ####로 바꾸는 프로그램을 정규식을 사용하여 작성하시오.\n",
    "\n",
    "\"\"\"\n",
    "\n",
    "park 010-9999-9988\n",
    "\n",
    "kim 010-9909-7789\n",
    "\n",
    "lee 010-8789-7768\n",
    "\n",
    "\"\"\"\n",
    "\n"
   ]
  },
  {
   "cell_type": "code",
   "execution_count": 83,
   "metadata": {},
   "outputs": [
    {
     "name": "stdout",
     "output_type": "stream",
     "text": [
      "\n",
      "park 010-9999-####\n",
      "kim 010-9909-####\n",
      "lee 010-8789-####\n",
      "\n"
     ]
    }
   ],
   "source": [
    "import re\n",
    "data=\"\"\"\n",
    "park 010-9999-9988\n",
    "kim 010-9909-7789\n",
    "lee 010-8789-7768\n",
    "\"\"\"\n",
    "p=re.compile(r\"(\\w+)(\\s+)(\\d+)([-]\\d{4})([-]\\d{4})\")\n",
    "#m=p.search(\"park 010-9999-9988\")\n",
    "#print(m.group(5))\n",
    "print(p.sub('\\g<1>\\g<2>\\g<3>\\g<4>-####',data)) #replacement, data 전체를 다 바꿔줘야함\n"
   ]
  }
 ],
 "metadata": {
  "kernelspec": {
   "display_name": "Python 3",
   "language": "python",
   "name": "python3"
  },
  "language_info": {
   "codemirror_mode": {
    "name": "ipython",
    "version": 3
   },
   "file_extension": ".py",
   "mimetype": "text/x-python",
   "name": "python",
   "nbconvert_exporter": "python",
   "pygments_lexer": "ipython3",
   "version": "3.7.6"
  }
 },
 "nbformat": 4,
 "nbformat_minor": 4
}
