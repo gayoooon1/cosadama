{
 "cells": [
  {
   "cell_type": "markdown",
   "metadata": {},
   "source": [
    "## 🐍COSADAMA SUMMER CAMP WEEK 4\n",
    "### 실제 활용해보며 익히는 MySQL 기본 + 문법"
   ]
  },
  {
   "cell_type": "markdown",
   "metadata": {},
   "source": [
    "#### 1. Schema 정의   \n",
    "table을 두 개로 만든다. foreign key, primary key -> table 분리해서 사용   \n",
    "랭킹 정보 저장, items에 가서 item 코드 가져오면 되는 구조"
   ]
  },
  {
   "cell_type": "code",
   "execution_count": null,
   "metadata": {},
   "outputs": [],
   "source": [
    "create table ranking (\n",
    "    num int auto_increment not null primary key,\n",
    "    main_category varchar(50) not null,# 변동 가능성 있음, 가변적 활용, 넉넉하게 잡아야\n",
    "    sub_category varchar(50) not null,\n",
    "    item_ranking tinyint unsigned not null, # 200위까지 저장하기 위함\n",
    "    item_code varchar(20) not null,\n",
    "    foreign key (item_code) references items(item_code) #item 코드를 가지고 참조할 수 있도록 함\n",
    ");"
   ]
  },
  {
   "cell_type": "code",
   "execution_count": null,
   "metadata": {},
   "outputs": [],
   "source": [
    "create table items (\n",
    "   item_code varchar(20) not null primary key,\n",
    "    title varchar(200) not null,\n",
    "    ori_price int not null,\n",
    "    discount_price not null,\n",
    "    discount_percent int not null,\n",
    "    provider varchar(100) # 판매처\n",
    ");"
   ]
  },
  {
   "cell_type": "markdown",
   "metadata": {},
   "source": [
    "create databse bestproducts   \n",
    "create table tablename(field definitions)\n",
    "\n",
    "한글 처리에 문제가 있을 경우 db, table에 default charset=utf8 collate=utf8_bin 옵션을 모두 추가해서 실행"
   ]
  },
  {
   "cell_type": "code",
   "execution_count": 38,
   "metadata": {},
   "outputs": [],
   "source": [
    "import pymysql\n",
    "db= pymysql.connect(host='localhost', port=3306, user='root', passwd='Myloxyloto5!', db='bestproducts', charset='utf8')\n",
    "cursor = db.cursor()\n",
    "\n",
    "sql = '''\n",
    "create table items (\n",
    "    item_code varchar(20) not null primary key,\n",
    "    title varchar(200) not null,\n",
    "    ori_price int not null,\n",
    "    discount_price int not null,\n",
    "    discount_percent int not null,\n",
    "    provider varchar(100)\n",
    ");\n",
    "'''\n",
    "\n",
    "cursor.execute(sql)\n",
    "\n",
    "sql = '''\n",
    "create table ranking (\n",
    "    num int auto_increment not null primary key,\n",
    "    main_category varchar(50) not null,\n",
    "    sub_category varchar(50) not null,\n",
    "    item_ranking tinyint unsigned not null,\n",
    "    item_code varchar(20) not null,\n",
    "    foreign key (item_code) references items(item_code)\n",
    ");\n",
    "'''\n",
    "\n",
    "cursor.execute(sql)\n",
    "\n",
    "db.commit()\n",
    "db.close()"
   ]
  },
  {
   "cell_type": "markdown",
   "metadata": {},
   "source": [
    "#### 2. Crawling"
   ]
  },
  {
   "cell_type": "markdown",
   "metadata": {},
   "source": [
    "#### main/sub category info + product info + product code + seller"
   ]
  },
  {
   "cell_type": "code",
   "execution_count": 52,
   "metadata": {},
   "outputs": [
    {
     "name": "stdout",
     "output_type": "stream",
     "text": [
      "insert into items values('1847952740',\n",
      "        '[아디다스]긴가민가 22%쿠폰 아디다스 남성 드로즈 1/3종 9900~',\n",
      "        '36300',\n",
      "        '10900',\n",
      "        '69',\n",
      "        '코웰패션주식회사')\n",
      "insert into items values('635067641',\n",
      "        '[난닝구]난닝구 슈프 15%+22%쿠폰 가을신상 BEST (5만무배)',\n",
      "        '59300',\n",
      "        '17800',\n",
      "        '69',\n",
      "        '난닝구닷컴')\n",
      "insert into items values('796992257',\n",
      "        '통통 활꽃게 2kg 6-10미 / 20% 쿠폰 적용가 22730원',\n",
      "        '59800',\n",
      "        '29900',\n",
      "        '50',\n",
      "        'Fresh_바다내음')\n",
      "insert into items values('1583097834',\n",
      "        '브리치x아이미마인 슈프 15%+22% 블라우스/원피스',\n",
      "        '49600',\n",
      "        '14900',\n",
      "        '69',\n",
      "        'brich')\n",
      "insert into items values('1776459341',\n",
      "        '치실 국내생산 이편한 치실 80개입 x 5팩(400개)',\n",
      "        '21900',\n",
      "        '6900',\n",
      "        '68',\n",
      "        '★편한세상★')\n",
      "insert into items values('1880166349',\n",
      "        '2020 히얼아이엠 킨더후리스 가을 겨울점퍼 패밀리룩',\n",
      "        '20800',\n",
      "        '20800',\n",
      "        '0',\n",
      "        'URBOK.CO.KR')\n",
      "insert into items values('1873427766',\n",
      "        '[네파키즈]20F/W 비스코 파일 플리스 자켓 KGF6104',\n",
      "        '49000',\n",
      "        '37240',\n",
      "        '24',\n",
      "        '롯데백화점1관')\n",
      "insert into items values('1832652113',\n",
      "        '[아이러브베베]아이러브베베 물티슈 포레 72매 캡형X20팩',\n",
      "        '19900',\n",
      "        '19900',\n",
      "        '0',\n",
      "        '신세계몰')\n",
      "insert into items values('1862358699',\n",
      "        '[비비수산]국내산 활새우 1kg 대 22-29미(찐쿠폰20% 17 300원)',\n",
      "        '45800',\n",
      "        '22900',\n",
      "        '50',\n",
      "        '비비수산')\n",
      "insert into items values('1879071771',\n",
      "        '[네파키즈](신세계강남점)[네파키즈] 20FW  포코트레이닝 세트  KGE5901',\n",
      "        '49000',\n",
      "        '38030',\n",
      "        '22',\n",
      "        '신세계백화점')\n",
      "insert into items values('869048966',\n",
      "        '피핀 슈프 15%+22% 가을신상/1+1/티셔츠/원피스',\n",
      "        '52600',\n",
      "        '15800',\n",
      "        '69',\n",
      "        '피핀_pippin')\n",
      "insert into items values('1875847289',\n",
      "        '[어스본코리아]어스본코리아 Very First Reading 시리즈 (전15권)',\n",
      "        '123000',\n",
      "        '119500',\n",
      "        '2',\n",
      "        '꾸러미북')\n",
      "insert into items values('1713773465',\n",
      "        '[숏핑] 담백한 맛  한밀푸드 명가토종순대국 650g x 10팩 세트(들깨가루 증정)',\n",
      "        '30900',\n",
      "        '24720',\n",
      "        '20',\n",
      "        'K쇼핑')\n",
      "insert into items values('1871583258',\n",
      "        '꾸미 라이트 GGUMI LIGHT PT (3RM01298) (3RM01298)',\n",
      "        '38500',\n",
      "        '36970',\n",
      "        '3',\n",
      "        'fashionplus')\n",
      "insert into items values('966680946',\n",
      "        '쿠폰+카드혜택가 4860원 균일가 가을원피스 팬츠',\n",
      "        '23000',\n",
      "        '6900',\n",
      "        '70',\n",
      "        '베리힙')\n",
      "insert into items values('1787960274',\n",
      "        '브리치x한미미 15%+22% 티셔츠/블라우스/원피스',\n",
      "        '43000',\n",
      "        '12900',\n",
      "        '70',\n",
      "        'brich')\n",
      "insert into items values('1548634127',\n",
      "        '[쪽빛누리]국내가공 오징어채 맛진미채 400g 진미채 (최상급)',\n",
      "        '19800',\n",
      "        '9900',\n",
      "        '50',\n",
      "        'yes쪽빛누리')\n",
      "insert into items values('1866019930',\n",
      "        '통통 활꽃게 3kg 9-15미 / 20% 쿠폰 적용가 33900원',\n",
      "        '71500',\n",
      "        '43900',\n",
      "        '38',\n",
      "        'Fresh_바다내음')\n",
      "insert into items values('189842449',\n",
      "        '요즘에/단하루 22%+추가15% 가을신상/데님/슬랙스/3XL',\n",
      "        '32900',\n",
      "        '9900',\n",
      "        '69',\n",
      "        '요즘에')\n",
      "insert into items values('1798013810',\n",
      "        '[닥터아토]닥터아토) 손소독티슈 20매 36팩 +사은품',\n",
      "        '45900',\n",
      "        '45900',\n",
      "        '0',\n",
      "        '신세계몰')\n",
      "insert into items values('1481263644',\n",
      "        '코코블랑 긴가민가22%쿠폰 가을신상',\n",
      "        '46300',\n",
      "        '13900',\n",
      "        '69',\n",
      "        '코코블랑1')\n",
      "insert into items values('1838100133',\n",
      "        '[머렐]아동 겨울을부탁해 키즈 롱 다운자켓5219ok407_INW',\n",
      "        '69000',\n",
      "        '53130',\n",
      "        '23',\n",
      "        '롯데백화점1관')\n",
      "insert into items values('1625245193',\n",
      "        '[론칭가 159 000원] 라이크라에스뷰티 FULLCOVER EX-TENSION',\n",
      "        '39000',\n",
      "        '39000',\n",
      "        '0',\n",
      "        'CJ오쇼핑')\n",
      "insert into items values('1877007372',\n",
      "        '[사파리]사파리잠자기 전 베드타임 동화책 기획 3권/4권 세트 선택구매',\n",
      "        '42490',\n",
      "        '32490',\n",
      "        '23',\n",
      "        '토피카북스')\n",
      "insert into items values('1832651994',\n",
      "        '[아이러브베베]아이러브베베 물티슈 아이보리 72매 캡형X20팩',\n",
      "        '21900',\n",
      "        '21900',\n",
      "        '0',\n",
      "        '신세계몰')\n",
      "insert into items values('1141773306',\n",
      "        '햇 볶음 아몬드 800g(400gX2봉) 견과류',\n",
      "        '17000',\n",
      "        '8500',\n",
      "        '50',\n",
      "        '파란푸드')\n",
      "insert into items values('1871613019',\n",
      "        '[블랙야크](신세계본점)20년 신상품 남성용 여성용 경량다운자켓 [B세인트튜브다운자켓]',\n",
      "        '79000',\n",
      "        '56410',\n",
      "        '28',\n",
      "        '신세계백화점')\n",
      "insert into items values('805459425',\n",
      "        '[슈프림]맨투맨 티셔츠 후드티 남자여자 남성 빅사이즈 커플티',\n",
      "        '26300',\n",
      "        '7900',\n",
      "        '69',\n",
      "        '문컬렉션')\n",
      "insert into items values('1840147374',\n",
      "        '[한국투자증권](한국투자증권) 온라인 금융상품권 5만원권',\n",
      "        '50000',\n",
      "        '50000',\n",
      "        '0',\n",
      "        '쿠프마케팅')\n",
      "insert into items values('1677882956',\n",
      "        '15%+22%쿠폰 빅사이즈 자켓/트렌치/블라우스/티셔츠',\n",
      "        '99000',\n",
      "        '29900',\n",
      "        '69',\n",
      "        '리베레츠')\n",
      "insert into items values('1785576576',\n",
      "        '플랜비 가을 All 9900균일/롱원피스/SET/가디건/니트',\n",
      "        '33000',\n",
      "        '9900',\n",
      "        '70',\n",
      "        '플랜비(planb)')\n",
      "insert into items values('1674065361',\n",
      "        '[뼈로가는칼슘두유]검은콩 190ml 72팩/두유',\n",
      "        '27600',\n",
      "        '24900',\n",
      "        '9',\n",
      "        '매일유업공식판매업체')\n"
     ]
    },
    {
     "ename": "KeyboardInterrupt",
     "evalue": "",
     "output_type": "error",
     "traceback": [
      "\u001b[1;31m---------------------------------------------------------------------------\u001b[0m",
      "\u001b[1;31mKeyboardInterrupt\u001b[0m                         Traceback (most recent call last)",
      "\u001b[1;32m<ipython-input-52-761326743944>\u001b[0m in \u001b[0;36m<module>\u001b[1;34m\u001b[0m\n\u001b[0;32m     10\u001b[0m \u001b[0mcategories\u001b[0m \u001b[1;33m=\u001b[0m \u001b[0msoup\u001b[0m\u001b[1;33m.\u001b[0m\u001b[0mselect\u001b[0m\u001b[1;33m(\u001b[0m\u001b[1;34m'div.gbest-cate ul.by-group li a'\u001b[0m\u001b[1;33m)\u001b[0m\u001b[1;33m\u001b[0m\u001b[1;33m\u001b[0m\u001b[0m\n\u001b[0;32m     11\u001b[0m \u001b[1;32mfor\u001b[0m \u001b[0mcategory\u001b[0m \u001b[1;32min\u001b[0m \u001b[0mcategories\u001b[0m\u001b[1;33m:\u001b[0m\u001b[1;33m\u001b[0m\u001b[1;33m\u001b[0m\u001b[0m\n\u001b[1;32m---> 12\u001b[1;33m     \u001b[0mget_category\u001b[0m\u001b[1;33m(\u001b[0m\u001b[1;34m'http://corners.gmarket.co.kr'\u001b[0m\u001b[1;33m+\u001b[0m \u001b[0mcategory\u001b[0m\u001b[1;33m[\u001b[0m\u001b[1;34m'href'\u001b[0m\u001b[1;33m]\u001b[0m\u001b[1;33m,\u001b[0m \u001b[0mcategory\u001b[0m\u001b[1;33m.\u001b[0m\u001b[0mget_text\u001b[0m\u001b[1;33m(\u001b[0m\u001b[1;33m)\u001b[0m\u001b[1;33m)\u001b[0m\u001b[1;33m\u001b[0m\u001b[1;33m\u001b[0m\u001b[0m\n\u001b[0m",
      "\u001b[1;32m<ipython-input-3-1732e44df1a5>\u001b[0m in \u001b[0;36mget_category\u001b[1;34m(category_link, category_name)\u001b[0m\n\u001b[0;32m      3\u001b[0m     \u001b[0msoup\u001b[0m \u001b[1;33m=\u001b[0m \u001b[0mBeautifulSoup\u001b[0m\u001b[1;33m(\u001b[0m\u001b[0mres\u001b[0m\u001b[1;33m.\u001b[0m\u001b[0mcontent\u001b[0m\u001b[1;33m,\u001b[0m \u001b[1;34m'html.parser'\u001b[0m\u001b[1;33m)\u001b[0m \u001b[1;31m#main category no sub\u001b[0m\u001b[1;33m\u001b[0m\u001b[1;33m\u001b[0m\u001b[0m\n\u001b[0;32m      4\u001b[0m \u001b[1;33m\u001b[0m\u001b[0m\n\u001b[1;32m----> 5\u001b[1;33m     \u001b[0mget_items\u001b[0m\u001b[1;33m(\u001b[0m\u001b[0msoup\u001b[0m\u001b[1;33m,\u001b[0m \u001b[0mcategory_name\u001b[0m\u001b[1;33m,\u001b[0m \u001b[1;34m'ALL'\u001b[0m\u001b[1;33m)\u001b[0m\u001b[1;33m\u001b[0m\u001b[1;33m\u001b[0m\u001b[0m\n\u001b[0m\u001b[0;32m      6\u001b[0m     \u001b[0msub_categories\u001b[0m \u001b[1;33m=\u001b[0m \u001b[0msoup\u001b[0m\u001b[1;33m.\u001b[0m\u001b[0mselect\u001b[0m\u001b[1;33m(\u001b[0m\u001b[1;34m'div.navi.group ul li > a'\u001b[0m\u001b[1;33m)\u001b[0m \u001b[1;31m#li 바로 밑에 것들만 올 수 있도록\u001b[0m\u001b[1;33m\u001b[0m\u001b[1;33m\u001b[0m\u001b[0m\n\u001b[0;32m      7\u001b[0m     \u001b[1;32mfor\u001b[0m \u001b[0msub_category\u001b[0m \u001b[1;32min\u001b[0m \u001b[0msub_categories\u001b[0m\u001b[1;33m:\u001b[0m \u001b[1;31m#sub\u001b[0m\u001b[1;33m\u001b[0m\u001b[1;33m\u001b[0m\u001b[0m\n",
      "\u001b[1;32m<ipython-input-51-483f6845c9bf>\u001b[0m in \u001b[0;36mget_items\u001b[1;34m(html, category_name, sub_category_name)\u001b[0m\n\u001b[0;32m     28\u001b[0m \u001b[1;33m\u001b[0m\u001b[0m\n\u001b[0;32m     29\u001b[0m \u001b[1;33m\u001b[0m\u001b[0m\n\u001b[1;32m---> 30\u001b[1;33m         \u001b[0mres\u001b[0m \u001b[1;33m=\u001b[0m \u001b[0mrequests\u001b[0m\u001b[1;33m.\u001b[0m\u001b[0mget\u001b[0m\u001b[1;33m(\u001b[0m\u001b[0mproduct_link\u001b[0m\u001b[1;33m.\u001b[0m\u001b[0mattrs\u001b[0m\u001b[1;33m[\u001b[0m\u001b[1;34m'href'\u001b[0m\u001b[1;33m]\u001b[0m\u001b[1;33m)\u001b[0m\u001b[1;33m\u001b[0m\u001b[1;33m\u001b[0m\u001b[0m\n\u001b[0m\u001b[0;32m     31\u001b[0m         \u001b[0msoup\u001b[0m \u001b[1;33m=\u001b[0m \u001b[0mBeautifulSoup\u001b[0m\u001b[1;33m(\u001b[0m\u001b[0mres\u001b[0m\u001b[1;33m.\u001b[0m\u001b[0mcontent\u001b[0m\u001b[1;33m,\u001b[0m \u001b[1;34m'html.parser'\u001b[0m\u001b[1;33m)\u001b[0m\u001b[1;33m\u001b[0m\u001b[1;33m\u001b[0m\u001b[0m\n\u001b[0;32m     32\u001b[0m         \u001b[0mprovider\u001b[0m \u001b[1;33m=\u001b[0m \u001b[0msoup\u001b[0m\u001b[1;33m.\u001b[0m\u001b[0mselect_one\u001b[0m\u001b[1;33m(\u001b[0m\u001b[1;34m'div.item-topinfo_headline > p > a > strong'\u001b[0m\u001b[1;33m)\u001b[0m\u001b[1;33m\u001b[0m\u001b[1;33m\u001b[0m\u001b[0m\n",
      "\u001b[1;32m~\\anaconda3\\lib\\site-packages\\requests\\api.py\u001b[0m in \u001b[0;36mget\u001b[1;34m(url, params, **kwargs)\u001b[0m\n\u001b[0;32m     73\u001b[0m \u001b[1;33m\u001b[0m\u001b[0m\n\u001b[0;32m     74\u001b[0m     \u001b[0mkwargs\u001b[0m\u001b[1;33m.\u001b[0m\u001b[0msetdefault\u001b[0m\u001b[1;33m(\u001b[0m\u001b[1;34m'allow_redirects'\u001b[0m\u001b[1;33m,\u001b[0m \u001b[1;32mTrue\u001b[0m\u001b[1;33m)\u001b[0m\u001b[1;33m\u001b[0m\u001b[1;33m\u001b[0m\u001b[0m\n\u001b[1;32m---> 75\u001b[1;33m     \u001b[1;32mreturn\u001b[0m \u001b[0mrequest\u001b[0m\u001b[1;33m(\u001b[0m\u001b[1;34m'get'\u001b[0m\u001b[1;33m,\u001b[0m \u001b[0murl\u001b[0m\u001b[1;33m,\u001b[0m \u001b[0mparams\u001b[0m\u001b[1;33m=\u001b[0m\u001b[0mparams\u001b[0m\u001b[1;33m,\u001b[0m \u001b[1;33m**\u001b[0m\u001b[0mkwargs\u001b[0m\u001b[1;33m)\u001b[0m\u001b[1;33m\u001b[0m\u001b[1;33m\u001b[0m\u001b[0m\n\u001b[0m\u001b[0;32m     76\u001b[0m \u001b[1;33m\u001b[0m\u001b[0m\n\u001b[0;32m     77\u001b[0m \u001b[1;33m\u001b[0m\u001b[0m\n",
      "\u001b[1;32m~\\anaconda3\\lib\\site-packages\\requests\\api.py\u001b[0m in \u001b[0;36mrequest\u001b[1;34m(method, url, **kwargs)\u001b[0m\n\u001b[0;32m     58\u001b[0m     \u001b[1;31m# cases, and look like a memory leak in others.\u001b[0m\u001b[1;33m\u001b[0m\u001b[1;33m\u001b[0m\u001b[1;33m\u001b[0m\u001b[0m\n\u001b[0;32m     59\u001b[0m     \u001b[1;32mwith\u001b[0m \u001b[0msessions\u001b[0m\u001b[1;33m.\u001b[0m\u001b[0mSession\u001b[0m\u001b[1;33m(\u001b[0m\u001b[1;33m)\u001b[0m \u001b[1;32mas\u001b[0m \u001b[0msession\u001b[0m\u001b[1;33m:\u001b[0m\u001b[1;33m\u001b[0m\u001b[1;33m\u001b[0m\u001b[0m\n\u001b[1;32m---> 60\u001b[1;33m         \u001b[1;32mreturn\u001b[0m \u001b[0msession\u001b[0m\u001b[1;33m.\u001b[0m\u001b[0mrequest\u001b[0m\u001b[1;33m(\u001b[0m\u001b[0mmethod\u001b[0m\u001b[1;33m=\u001b[0m\u001b[0mmethod\u001b[0m\u001b[1;33m,\u001b[0m \u001b[0murl\u001b[0m\u001b[1;33m=\u001b[0m\u001b[0murl\u001b[0m\u001b[1;33m,\u001b[0m \u001b[1;33m**\u001b[0m\u001b[0mkwargs\u001b[0m\u001b[1;33m)\u001b[0m\u001b[1;33m\u001b[0m\u001b[1;33m\u001b[0m\u001b[0m\n\u001b[0m\u001b[0;32m     61\u001b[0m \u001b[1;33m\u001b[0m\u001b[0m\n\u001b[0;32m     62\u001b[0m \u001b[1;33m\u001b[0m\u001b[0m\n",
      "\u001b[1;32m~\\anaconda3\\lib\\site-packages\\requests\\sessions.py\u001b[0m in \u001b[0;36mrequest\u001b[1;34m(self, method, url, params, data, headers, cookies, files, auth, timeout, allow_redirects, proxies, hooks, stream, verify, cert, json)\u001b[0m\n\u001b[0;32m    531\u001b[0m         }\n\u001b[0;32m    532\u001b[0m         \u001b[0msend_kwargs\u001b[0m\u001b[1;33m.\u001b[0m\u001b[0mupdate\u001b[0m\u001b[1;33m(\u001b[0m\u001b[0msettings\u001b[0m\u001b[1;33m)\u001b[0m\u001b[1;33m\u001b[0m\u001b[1;33m\u001b[0m\u001b[0m\n\u001b[1;32m--> 533\u001b[1;33m         \u001b[0mresp\u001b[0m \u001b[1;33m=\u001b[0m \u001b[0mself\u001b[0m\u001b[1;33m.\u001b[0m\u001b[0msend\u001b[0m\u001b[1;33m(\u001b[0m\u001b[0mprep\u001b[0m\u001b[1;33m,\u001b[0m \u001b[1;33m**\u001b[0m\u001b[0msend_kwargs\u001b[0m\u001b[1;33m)\u001b[0m\u001b[1;33m\u001b[0m\u001b[1;33m\u001b[0m\u001b[0m\n\u001b[0m\u001b[0;32m    534\u001b[0m \u001b[1;33m\u001b[0m\u001b[0m\n\u001b[0;32m    535\u001b[0m         \u001b[1;32mreturn\u001b[0m \u001b[0mresp\u001b[0m\u001b[1;33m\u001b[0m\u001b[1;33m\u001b[0m\u001b[0m\n",
      "\u001b[1;32m~\\anaconda3\\lib\\site-packages\\requests\\sessions.py\u001b[0m in \u001b[0;36msend\u001b[1;34m(self, request, **kwargs)\u001b[0m\n\u001b[0;32m    644\u001b[0m \u001b[1;33m\u001b[0m\u001b[0m\n\u001b[0;32m    645\u001b[0m         \u001b[1;31m# Send the request\u001b[0m\u001b[1;33m\u001b[0m\u001b[1;33m\u001b[0m\u001b[1;33m\u001b[0m\u001b[0m\n\u001b[1;32m--> 646\u001b[1;33m         \u001b[0mr\u001b[0m \u001b[1;33m=\u001b[0m \u001b[0madapter\u001b[0m\u001b[1;33m.\u001b[0m\u001b[0msend\u001b[0m\u001b[1;33m(\u001b[0m\u001b[0mrequest\u001b[0m\u001b[1;33m,\u001b[0m \u001b[1;33m**\u001b[0m\u001b[0mkwargs\u001b[0m\u001b[1;33m)\u001b[0m\u001b[1;33m\u001b[0m\u001b[1;33m\u001b[0m\u001b[0m\n\u001b[0m\u001b[0;32m    647\u001b[0m \u001b[1;33m\u001b[0m\u001b[0m\n\u001b[0;32m    648\u001b[0m         \u001b[1;31m# Total elapsed time of the request (approximately)\u001b[0m\u001b[1;33m\u001b[0m\u001b[1;33m\u001b[0m\u001b[1;33m\u001b[0m\u001b[0m\n",
      "\u001b[1;32m~\\anaconda3\\lib\\site-packages\\requests\\adapters.py\u001b[0m in \u001b[0;36msend\u001b[1;34m(self, request, stream, timeout, verify, cert, proxies)\u001b[0m\n\u001b[0;32m    447\u001b[0m                     \u001b[0mdecode_content\u001b[0m\u001b[1;33m=\u001b[0m\u001b[1;32mFalse\u001b[0m\u001b[1;33m,\u001b[0m\u001b[1;33m\u001b[0m\u001b[1;33m\u001b[0m\u001b[0m\n\u001b[0;32m    448\u001b[0m                     \u001b[0mretries\u001b[0m\u001b[1;33m=\u001b[0m\u001b[0mself\u001b[0m\u001b[1;33m.\u001b[0m\u001b[0mmax_retries\u001b[0m\u001b[1;33m,\u001b[0m\u001b[1;33m\u001b[0m\u001b[1;33m\u001b[0m\u001b[0m\n\u001b[1;32m--> 449\u001b[1;33m                     \u001b[0mtimeout\u001b[0m\u001b[1;33m=\u001b[0m\u001b[0mtimeout\u001b[0m\u001b[1;33m\u001b[0m\u001b[1;33m\u001b[0m\u001b[0m\n\u001b[0m\u001b[0;32m    450\u001b[0m                 )\n\u001b[0;32m    451\u001b[0m \u001b[1;33m\u001b[0m\u001b[0m\n",
      "\u001b[1;32m~\\anaconda3\\lib\\site-packages\\urllib3\\connectionpool.py\u001b[0m in \u001b[0;36murlopen\u001b[1;34m(self, method, url, body, headers, retries, redirect, assert_same_host, timeout, pool_timeout, release_conn, chunked, body_pos, **response_kw)\u001b[0m\n\u001b[0;32m    670\u001b[0m                 \u001b[0mbody\u001b[0m\u001b[1;33m=\u001b[0m\u001b[0mbody\u001b[0m\u001b[1;33m,\u001b[0m\u001b[1;33m\u001b[0m\u001b[1;33m\u001b[0m\u001b[0m\n\u001b[0;32m    671\u001b[0m                 \u001b[0mheaders\u001b[0m\u001b[1;33m=\u001b[0m\u001b[0mheaders\u001b[0m\u001b[1;33m,\u001b[0m\u001b[1;33m\u001b[0m\u001b[1;33m\u001b[0m\u001b[0m\n\u001b[1;32m--> 672\u001b[1;33m                 \u001b[0mchunked\u001b[0m\u001b[1;33m=\u001b[0m\u001b[0mchunked\u001b[0m\u001b[1;33m,\u001b[0m\u001b[1;33m\u001b[0m\u001b[1;33m\u001b[0m\u001b[0m\n\u001b[0m\u001b[0;32m    673\u001b[0m             )\n\u001b[0;32m    674\u001b[0m \u001b[1;33m\u001b[0m\u001b[0m\n",
      "\u001b[1;32m~\\anaconda3\\lib\\site-packages\\urllib3\\connectionpool.py\u001b[0m in \u001b[0;36m_make_request\u001b[1;34m(self, conn, method, url, timeout, chunked, **httplib_request_kw)\u001b[0m\n\u001b[0;32m    419\u001b[0m                     \u001b[1;31m# Python 3 (including for exceptions like SystemExit).\u001b[0m\u001b[1;33m\u001b[0m\u001b[1;33m\u001b[0m\u001b[1;33m\u001b[0m\u001b[0m\n\u001b[0;32m    420\u001b[0m                     \u001b[1;31m# Otherwise it looks like a bug in the code.\u001b[0m\u001b[1;33m\u001b[0m\u001b[1;33m\u001b[0m\u001b[1;33m\u001b[0m\u001b[0m\n\u001b[1;32m--> 421\u001b[1;33m                     \u001b[0msix\u001b[0m\u001b[1;33m.\u001b[0m\u001b[0mraise_from\u001b[0m\u001b[1;33m(\u001b[0m\u001b[0me\u001b[0m\u001b[1;33m,\u001b[0m \u001b[1;32mNone\u001b[0m\u001b[1;33m)\u001b[0m\u001b[1;33m\u001b[0m\u001b[1;33m\u001b[0m\u001b[0m\n\u001b[0m\u001b[0;32m    422\u001b[0m         \u001b[1;32mexcept\u001b[0m \u001b[1;33m(\u001b[0m\u001b[0mSocketTimeout\u001b[0m\u001b[1;33m,\u001b[0m \u001b[0mBaseSSLError\u001b[0m\u001b[1;33m,\u001b[0m \u001b[0mSocketError\u001b[0m\u001b[1;33m)\u001b[0m \u001b[1;32mas\u001b[0m \u001b[0me\u001b[0m\u001b[1;33m:\u001b[0m\u001b[1;33m\u001b[0m\u001b[1;33m\u001b[0m\u001b[0m\n\u001b[0;32m    423\u001b[0m             \u001b[0mself\u001b[0m\u001b[1;33m.\u001b[0m\u001b[0m_raise_timeout\u001b[0m\u001b[1;33m(\u001b[0m\u001b[0merr\u001b[0m\u001b[1;33m=\u001b[0m\u001b[0me\u001b[0m\u001b[1;33m,\u001b[0m \u001b[0murl\u001b[0m\u001b[1;33m=\u001b[0m\u001b[0murl\u001b[0m\u001b[1;33m,\u001b[0m \u001b[0mtimeout_value\u001b[0m\u001b[1;33m=\u001b[0m\u001b[0mread_timeout\u001b[0m\u001b[1;33m)\u001b[0m\u001b[1;33m\u001b[0m\u001b[1;33m\u001b[0m\u001b[0m\n",
      "\u001b[1;32m~\\anaconda3\\lib\\site-packages\\urllib3\\packages\\six.py\u001b[0m in \u001b[0;36mraise_from\u001b[1;34m(value, from_value)\u001b[0m\n",
      "\u001b[1;32m~\\anaconda3\\lib\\site-packages\\urllib3\\connectionpool.py\u001b[0m in \u001b[0;36m_make_request\u001b[1;34m(self, conn, method, url, timeout, chunked, **httplib_request_kw)\u001b[0m\n\u001b[0;32m    414\u001b[0m                 \u001b[1;31m# Python 3\u001b[0m\u001b[1;33m\u001b[0m\u001b[1;33m\u001b[0m\u001b[1;33m\u001b[0m\u001b[0m\n\u001b[0;32m    415\u001b[0m                 \u001b[1;32mtry\u001b[0m\u001b[1;33m:\u001b[0m\u001b[1;33m\u001b[0m\u001b[1;33m\u001b[0m\u001b[0m\n\u001b[1;32m--> 416\u001b[1;33m                     \u001b[0mhttplib_response\u001b[0m \u001b[1;33m=\u001b[0m \u001b[0mconn\u001b[0m\u001b[1;33m.\u001b[0m\u001b[0mgetresponse\u001b[0m\u001b[1;33m(\u001b[0m\u001b[1;33m)\u001b[0m\u001b[1;33m\u001b[0m\u001b[1;33m\u001b[0m\u001b[0m\n\u001b[0m\u001b[0;32m    417\u001b[0m                 \u001b[1;32mexcept\u001b[0m \u001b[0mBaseException\u001b[0m \u001b[1;32mas\u001b[0m \u001b[0me\u001b[0m\u001b[1;33m:\u001b[0m\u001b[1;33m\u001b[0m\u001b[1;33m\u001b[0m\u001b[0m\n\u001b[0;32m    418\u001b[0m                     \u001b[1;31m# Remove the TypeError from the exception chain in\u001b[0m\u001b[1;33m\u001b[0m\u001b[1;33m\u001b[0m\u001b[1;33m\u001b[0m\u001b[0m\n",
      "\u001b[1;32m~\\anaconda3\\lib\\http\\client.py\u001b[0m in \u001b[0;36mgetresponse\u001b[1;34m(self)\u001b[0m\n\u001b[0;32m   1342\u001b[0m         \u001b[1;32mtry\u001b[0m\u001b[1;33m:\u001b[0m\u001b[1;33m\u001b[0m\u001b[1;33m\u001b[0m\u001b[0m\n\u001b[0;32m   1343\u001b[0m             \u001b[1;32mtry\u001b[0m\u001b[1;33m:\u001b[0m\u001b[1;33m\u001b[0m\u001b[1;33m\u001b[0m\u001b[0m\n\u001b[1;32m-> 1344\u001b[1;33m                 \u001b[0mresponse\u001b[0m\u001b[1;33m.\u001b[0m\u001b[0mbegin\u001b[0m\u001b[1;33m(\u001b[0m\u001b[1;33m)\u001b[0m\u001b[1;33m\u001b[0m\u001b[1;33m\u001b[0m\u001b[0m\n\u001b[0m\u001b[0;32m   1345\u001b[0m             \u001b[1;32mexcept\u001b[0m \u001b[0mConnectionError\u001b[0m\u001b[1;33m:\u001b[0m\u001b[1;33m\u001b[0m\u001b[1;33m\u001b[0m\u001b[0m\n\u001b[0;32m   1346\u001b[0m                 \u001b[0mself\u001b[0m\u001b[1;33m.\u001b[0m\u001b[0mclose\u001b[0m\u001b[1;33m(\u001b[0m\u001b[1;33m)\u001b[0m\u001b[1;33m\u001b[0m\u001b[1;33m\u001b[0m\u001b[0m\n",
      "\u001b[1;32m~\\anaconda3\\lib\\http\\client.py\u001b[0m in \u001b[0;36mbegin\u001b[1;34m(self)\u001b[0m\n\u001b[0;32m    304\u001b[0m         \u001b[1;31m# read until we get a non-100 response\u001b[0m\u001b[1;33m\u001b[0m\u001b[1;33m\u001b[0m\u001b[1;33m\u001b[0m\u001b[0m\n\u001b[0;32m    305\u001b[0m         \u001b[1;32mwhile\u001b[0m \u001b[1;32mTrue\u001b[0m\u001b[1;33m:\u001b[0m\u001b[1;33m\u001b[0m\u001b[1;33m\u001b[0m\u001b[0m\n\u001b[1;32m--> 306\u001b[1;33m             \u001b[0mversion\u001b[0m\u001b[1;33m,\u001b[0m \u001b[0mstatus\u001b[0m\u001b[1;33m,\u001b[0m \u001b[0mreason\u001b[0m \u001b[1;33m=\u001b[0m \u001b[0mself\u001b[0m\u001b[1;33m.\u001b[0m\u001b[0m_read_status\u001b[0m\u001b[1;33m(\u001b[0m\u001b[1;33m)\u001b[0m\u001b[1;33m\u001b[0m\u001b[1;33m\u001b[0m\u001b[0m\n\u001b[0m\u001b[0;32m    307\u001b[0m             \u001b[1;32mif\u001b[0m \u001b[0mstatus\u001b[0m \u001b[1;33m!=\u001b[0m \u001b[0mCONTINUE\u001b[0m\u001b[1;33m:\u001b[0m\u001b[1;33m\u001b[0m\u001b[1;33m\u001b[0m\u001b[0m\n\u001b[0;32m    308\u001b[0m                 \u001b[1;32mbreak\u001b[0m\u001b[1;33m\u001b[0m\u001b[1;33m\u001b[0m\u001b[0m\n",
      "\u001b[1;32m~\\anaconda3\\lib\\http\\client.py\u001b[0m in \u001b[0;36m_read_status\u001b[1;34m(self)\u001b[0m\n\u001b[0;32m    265\u001b[0m \u001b[1;33m\u001b[0m\u001b[0m\n\u001b[0;32m    266\u001b[0m     \u001b[1;32mdef\u001b[0m \u001b[0m_read_status\u001b[0m\u001b[1;33m(\u001b[0m\u001b[0mself\u001b[0m\u001b[1;33m)\u001b[0m\u001b[1;33m:\u001b[0m\u001b[1;33m\u001b[0m\u001b[1;33m\u001b[0m\u001b[0m\n\u001b[1;32m--> 267\u001b[1;33m         \u001b[0mline\u001b[0m \u001b[1;33m=\u001b[0m \u001b[0mstr\u001b[0m\u001b[1;33m(\u001b[0m\u001b[0mself\u001b[0m\u001b[1;33m.\u001b[0m\u001b[0mfp\u001b[0m\u001b[1;33m.\u001b[0m\u001b[0mreadline\u001b[0m\u001b[1;33m(\u001b[0m\u001b[0m_MAXLINE\u001b[0m \u001b[1;33m+\u001b[0m \u001b[1;36m1\u001b[0m\u001b[1;33m)\u001b[0m\u001b[1;33m,\u001b[0m \u001b[1;34m\"iso-8859-1\"\u001b[0m\u001b[1;33m)\u001b[0m\u001b[1;33m\u001b[0m\u001b[1;33m\u001b[0m\u001b[0m\n\u001b[0m\u001b[0;32m    268\u001b[0m         \u001b[1;32mif\u001b[0m \u001b[0mlen\u001b[0m\u001b[1;33m(\u001b[0m\u001b[0mline\u001b[0m\u001b[1;33m)\u001b[0m \u001b[1;33m>\u001b[0m \u001b[0m_MAXLINE\u001b[0m\u001b[1;33m:\u001b[0m\u001b[1;33m\u001b[0m\u001b[1;33m\u001b[0m\u001b[0m\n\u001b[0;32m    269\u001b[0m             \u001b[1;32mraise\u001b[0m \u001b[0mLineTooLong\u001b[0m\u001b[1;33m(\u001b[0m\u001b[1;34m\"status line\"\u001b[0m\u001b[1;33m)\u001b[0m\u001b[1;33m\u001b[0m\u001b[1;33m\u001b[0m\u001b[0m\n",
      "\u001b[1;32m~\\anaconda3\\lib\\socket.py\u001b[0m in \u001b[0;36mreadinto\u001b[1;34m(self, b)\u001b[0m\n\u001b[0;32m    587\u001b[0m         \u001b[1;32mwhile\u001b[0m \u001b[1;32mTrue\u001b[0m\u001b[1;33m:\u001b[0m\u001b[1;33m\u001b[0m\u001b[1;33m\u001b[0m\u001b[0m\n\u001b[0;32m    588\u001b[0m             \u001b[1;32mtry\u001b[0m\u001b[1;33m:\u001b[0m\u001b[1;33m\u001b[0m\u001b[1;33m\u001b[0m\u001b[0m\n\u001b[1;32m--> 589\u001b[1;33m                 \u001b[1;32mreturn\u001b[0m \u001b[0mself\u001b[0m\u001b[1;33m.\u001b[0m\u001b[0m_sock\u001b[0m\u001b[1;33m.\u001b[0m\u001b[0mrecv_into\u001b[0m\u001b[1;33m(\u001b[0m\u001b[0mb\u001b[0m\u001b[1;33m)\u001b[0m\u001b[1;33m\u001b[0m\u001b[1;33m\u001b[0m\u001b[0m\n\u001b[0m\u001b[0;32m    590\u001b[0m             \u001b[1;32mexcept\u001b[0m \u001b[0mtimeout\u001b[0m\u001b[1;33m:\u001b[0m\u001b[1;33m\u001b[0m\u001b[1;33m\u001b[0m\u001b[0m\n\u001b[0;32m    591\u001b[0m                 \u001b[0mself\u001b[0m\u001b[1;33m.\u001b[0m\u001b[0m_timeout_occurred\u001b[0m \u001b[1;33m=\u001b[0m \u001b[1;32mTrue\u001b[0m\u001b[1;33m\u001b[0m\u001b[1;33m\u001b[0m\u001b[0m\n",
      "\u001b[1;31mKeyboardInterrupt\u001b[0m: "
     ]
    }
   ],
   "source": [
    "import requests\n",
    "from bs4 import BeautifulSoup\n",
    "import pymysql\n",
    "db= pymysql.connect(host='localhost', port=3306, user='root', passwd='Myloxyloto5!', db='bestproducts', charset='utf8')\n",
    "cursor = db.cursor()\n",
    "\n",
    "res = requests.get('http://corners.gmarket.co.kr/Bestsellers')\n",
    "soup = BeautifulSoup(res.content, 'html.parser')\n",
    "\n",
    "categories = soup.select('div.gbest-cate ul.by-group li a')\n",
    "for category in categories:\n",
    "    get_category('http://corners.gmarket.co.kr'+ category['href'], category.get_text())"
   ]
  },
  {
   "cell_type": "markdown",
   "metadata": {},
   "source": [
    "http://corners.gmarket.co.kr/Bestsellers?viewType=G&groupCode=G01"
   ]
  },
  {
   "cell_type": "code",
   "execution_count": 3,
   "metadata": {},
   "outputs": [],
   "source": [
    "def get_category(category_link, category_name):\n",
    "    res =  requests.get(category_link)\n",
    "    soup = BeautifulSoup(res.content, 'html.parser') #main category no sub\n",
    "    \n",
    "    get_items(soup, category_name, 'ALL')\n",
    "    sub_categories = soup.select('div.navi.group ul li > a') #li 바로 밑에 것들만 올 수 있도록\n",
    "    for sub_category in sub_categories: #sub\n",
    "        res = requests.get('http://corners.gmarket.co.kr'+ sub_category['href'])\n",
    "        soup = BeautifulSoup(res.content, 'html.parser')\n",
    "        get_items(soup, category_name, sub_category.get_text())"
   ]
  },
  {
   "cell_type": "code",
   "execution_count": null,
   "metadata": {},
   "outputs": [],
   "source": [
    "#def get_items(html, category_name, sub_category_name):\n",
    "    #items_result_list = list()\n",
    "    #best_item = html.select('div.best-list')\n",
    "    #for index, item in enumerate(best_item[1].select('li')): #product list\n",
    "        title = item.select_one('a.itemname').get_text()\n",
    "        ori_price = item.select_one('div.o-price').get_text()\n",
    "        dis_price = item.select_one('div.s-price strong span').get_text()\n",
    "        discount_percent = item.select_one('div.s-price em').get_text()"
   ]
  },
  {
   "cell_type": "markdown",
   "metadata": {},
   "source": [
    "많은 페이지를 크롤링하다 보면 get_text 메서드에 대해 호출을 못하게 될 수도 있음. 해당 부분이 없는 경우.   \n",
    "태그가 없는 경우, 태그는 있는데 데이터가 없는경우\n",
    "위의 경우 할인 적용이 안되거나 등\n",
    "\n",
    "string으로 오기 때문에 가격에서 '원' 글자와 쉼표도 빼줘야함"
   ]
  },
  {
   "cell_type": "code",
   "execution_count": 49,
   "metadata": {},
   "outputs": [],
   "source": [
    "import re"
   ]
  },
  {
   "cell_type": "code",
   "execution_count": 51,
   "metadata": {},
   "outputs": [],
   "source": [
    "def get_items(html, category_name, sub_category_name):\n",
    "    items_result_list = list()\n",
    "    best_item = html.select('div.best-list')\n",
    "    for index, item in enumerate(best_item[1].select('li')): #product list\n",
    "        data_dict = dict()\n",
    "        \n",
    "        ranking = index+1\n",
    "        title = item.select_one('a.itemname')\n",
    "        ori_price = item.select_one('div.o-price')\n",
    "        dis_price = item.select_one('div.s-price strong span')\n",
    "        discount_percent = item.select_one('div.s-price em')\n",
    "        \n",
    "        if ori_price == None or ori_price.get_text() == '': # 객체가 없으면 원래 가격을 discount price로 덮어쓰기\n",
    "            ori_price = dis_price\n",
    "        if dis_price == None:\n",
    "            ori_price, dis_price = 0,0\n",
    "        else: \n",
    "            ori_price = ori_price.get_text().replace(',', '').replace('원','')\n",
    "            dis_price = dis_price.get_text().replace(',', '').replace('원', '')\n",
    "        \n",
    "        if discount_percent == None or discount_percent.get_text() == '':\n",
    "            discount_percent = 0\n",
    "        else:\n",
    "            discount_percent = discount_percent.get_text().replace('%','')\n",
    "        \n",
    "        product_link = item.select_one('div.thumb > a')\n",
    "        item_code = re.split(\"=|&\",product_link.attrs['href'])[1]\n",
    "\n",
    "        \n",
    "        res = requests.get(product_link.attrs['href'])\n",
    "        soup = BeautifulSoup(res.content, 'html.parser')\n",
    "        provider = soup.select_one('div.item-topinfo_headline > p > a > strong')\n",
    "        if provider == None:\n",
    "            provider = ''\n",
    "        else:\n",
    "            provider = provider.get_text()\n",
    "        data_dict['category_name'] = category_name\n",
    "        data_dict['sub_category_name'] = sub_category_name\n",
    "        data_dict['ranking'] = ranking\n",
    "        data_dict['title'] = title.get_text()\n",
    "        data_dict['ori_price'] = ori_price\n",
    "        data_dict['dis_price'] = dis_price\n",
    "        data_dict['discount_percent'] = discount_percent\n",
    "        data_dict['item_code'] = item_code\n",
    "        data_dict['provider'] = provider\n",
    "        \n",
    "        save_data(data_dict)\n",
    "        #print(category_name, sub_category_name, ranking,item_code, provider, title.get_text(), ori_price, dis_price, discount_percent)"
   ]
  },
  {
   "cell_type": "markdown",
   "metadata": {},
   "source": [
    "`\n",
    "create table ranking (   \n",
    "    num int auto_increment not null primary key,   \n",
    "    main_category varchar(50) not null,# 변동 가능성 있음, 가변적 활용, 넉넉하게 잡아야   \n",
    "    sub_category varchar(50) not null,   \n",
    "    item_ranking tinyint unsigned not null, # 200위까지 저장하기 위함   \n",
    "    item_code varchar(20) not null,   \n",
    "    foreign key (item_code) references items(item_code) #item 코드를 가지고 참조할 수 있도록 함   \n",
    ");\n",
    "`"
   ]
  },
  {
   "cell_type": "code",
   "execution_count": 45,
   "metadata": {},
   "outputs": [],
   "source": [
    "item_info = {'category_name':'ALL', 'sub_category_name':'ALL', 'ranking':1, 'title':'투투22 투투 단하루 균일가+15+22%찬스 슬랙스/청바지 5XL','ori_price':49500,'dis_price':14900,'discount_percent':69,'item_code':'1368640307','provider':'투투22'}"
   ]
  },
  {
   "cell_type": "code",
   "execution_count": 44,
   "metadata": {},
   "outputs": [
    {
     "data": {
      "text/plain": [
       "'create table ranking (    num int auto_increment not null primary key,    main_category varchar(50) not null,    sub_category varchar(50) not null,    item_ranking tinyint unsigned not null,    item_code varchar(20) not null,    foreign key (item_code) references items(item_code));'"
      ]
     },
     "execution_count": 44,
     "metadata": {},
     "output_type": "execute_result"
    }
   ],
   "source": [
    "sql.replace('\\n','')"
   ]
  },
  {
   "cell_type": "code",
   "execution_count": 50,
   "metadata": {},
   "outputs": [],
   "source": [
    "def save_data(item_info):\n",
    "    sql = \"\"\"select count(*) from items where item_code = '\"\"\" + item_info['item_code'] + \"\"\"';\"\"\"\n",
    "    cursor.execute(sql)\n",
    "    result = cursor.fetchone()\n",
    "    if result[0] == 0:\n",
    "        sql = \"\"\"insert into items values('\"\"\" + item_info['item_code'] + \"\"\"',\n",
    "        '\"\"\" + item_info['title'] + \"\"\"',\n",
    "        '\"\"\" + str(item_info['ori_price']) + \"\"\"',\n",
    "        '\"\"\" + str(item_info['dis_price']) + \"\"\"',\n",
    "        '\"\"\" + str(item_info['discount_percent']) + \"\"\"',\n",
    "        '\"\"\" + item_info['provider'] + \"\"\"')\"\"\"\n",
    "        print(sql)\n",
    "        cursor.execute(sql)\n",
    "        \n",
    "    sql = \"\"\"insert into ranking (main_category, sub_category, item_ranking, item_code) values('\"\"\" + item_info['category_name'] + \"\"\"',\n",
    "    '\"\"\" + item_info['sub_category_name'] + \"\"\"',\n",
    "    '\"\"\" + str(item_info['ranking']) + \"\"\"',\n",
    "    '\"\"\" + item_info['item_code'] + \"\"\"')\"\"\"\n",
    "    cursor.execute(sql)\n",
    "    "
   ]
  },
  {
   "cell_type": "markdown",
   "metadata": {},
   "source": [
    "### count sql\n",
    "- count : 검색 결과의 row 수를 가져올 수 있는 sql 문법\n",
    "- sql 예제 : select count(*) from items"
   ]
  },
  {
   "cell_type": "code",
   "execution_count": 46,
   "metadata": {},
   "outputs": [],
   "source": [
    "sql = \"\"\"select count(*) from items where item_code = '\"\"\" + item_info['item_code'] + \"\"\"';\"\"\"\n",
    "cursor.execute(sql)\n",
    "result = cursor.fetchone()\n",
    "print(result[0])"
   ]
  },
  {
   "cell_type": "code",
   "execution_count": 47,
   "metadata": {},
   "outputs": [
    {
     "data": {
      "text/plain": [
       "\"select count(*) from items where item_code = '1368640307';\""
      ]
     },
     "execution_count": 47,
     "metadata": {},
     "output_type": "execute_result"
    }
   ],
   "source": [
    "sql"
   ]
  },
  {
   "cell_type": "markdown",
   "metadata": {},
   "source": [
    "#### 목적   \n",
    "* 실제로 데이터 베이스를 사용하는 방법을 현업스타일로!\n",
    "* 현실 세계의 데이터를 어떻게 테이블로 정의할 것인가\n",
    "* 어떻게 데이터를 넣을 것인가\n",
    "* 저장된 데이터를 분석한다. SQL만 쓰는 경우 + 프로그래밍에서 데이터를 분석해서, 풀스택으로 서비스화함"
   ]
  },
  {
   "cell_type": "markdown",
   "metadata": {},
   "source": [
    "### DELETE TABLE DATA"
   ]
  },
  {
   "cell_type": "code",
   "execution_count": null,
   "metadata": {},
   "outputs": [],
   "source": [
    "import pymysql\n",
    "db= pymysql.connect(host='localhost', port=3306, user='root', passwd='Myloxyloto5!', db='bestproducts', charset='utf8')\n",
    "cursor = db.cursor()\n",
    "\n",
    "sql = 'delete from items'\n",
    "cursor.execute(sql)\n",
    "\n",
    "sql = 'delete from ranking'\n",
    "cursor.execute(sql)\n",
    "\n",
    "db.commit()\n",
    "db.close()"
   ]
  }
 ],
 "metadata": {
  "kernelspec": {
   "display_name": "Python 3",
   "language": "python",
   "name": "python3"
  },
  "language_info": {
   "codemirror_mode": {
    "name": "ipython",
    "version": 3
   },
   "file_extension": ".py",
   "mimetype": "text/x-python",
   "name": "python",
   "nbconvert_exporter": "python",
   "pygments_lexer": "ipython3",
   "version": "3.7.6"
  }
 },
 "nbformat": 4,
 "nbformat_minor": 4
}
