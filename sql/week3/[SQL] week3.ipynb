{
 "cells": [
  {
   "cell_type": "markdown",
   "metadata": {},
   "source": [
    "## 🐍SUMMER CAMP 2020 SQL WEEK3"
   ]
  },
  {
   "cell_type": "markdown",
   "metadata": {},
   "source": [
    "### 1. 알아둬야할 5 STEP"
   ]
  },
  {
   "cell_type": "code",
   "execution_count": 3,
   "metadata": {},
   "outputs": [],
   "source": [
    "import pymysql # 파이썬은 많은 라이브러리가 있고 그 중에 하나가 mysql을 파이썬으로 사용할 수 있는 라이브러리"
   ]
  },
  {
   "cell_type": "code",
   "execution_count": 4,
   "metadata": {},
   "outputs": [],
   "source": [
    "db = pymysql.connect(host='localhost', port=3306, user='root', passwd='Myloxyloto5!', db='ecommerce', charset='utf8')\n",
    "#localhost my computer\n",
    "#port 외부 접속 왔을 때 어떤 프로그램을 쓰는지? 특정 포트 번호 = 프로그램마다 있음 mysql 디폴트 번호 3306"
   ]
  },
  {
   "cell_type": "code",
   "execution_count": 5,
   "metadata": {},
   "outputs": [
    {
     "data": {
      "text/plain": [
       "<pymysql.connections.Connection at 0x240f70bee88>"
      ]
     },
     "execution_count": 5,
     "metadata": {},
     "output_type": "execute_result"
    }
   ],
   "source": [
    "db #접속이 된 상태가 객체로 넘어왔다, 객체표시 붕어빵 틀로 찍어냄~"
   ]
  },
  {
   "cell_type": "code",
   "execution_count": 4,
   "metadata": {},
   "outputs": [],
   "source": [
    "ecommerce = db.cursor() #명령을 받을 수 있는 상태"
   ]
  },
  {
   "cell_type": "code",
   "execution_count": 5,
   "metadata": {},
   "outputs": [
    {
     "data": {
      "text/plain": [
       "<pymysql.cursors.Cursor at 0x2943b271988>"
      ]
     },
     "execution_count": 5,
     "metadata": {},
     "output_type": "execute_result"
    }
   ],
   "source": [
    "ecommerce #커서라는 객체가 접속 실제 명령을 내릴 수 있는 상태 ---- 준비 상태 끝!"
   ]
  },
  {
   "cell_type": "markdown",
   "metadata": {},
   "source": [
    "```\n",
    "create database ecommerce;\n",
    "use ecommerce;\n",
    "show databases;\n",
    "create table product (\n",
    "\tproduct_code varchar(20) not null,\n",
    "    title varchar(200) not null,\n",
    "    ori_price int,\n",
    "    discount_price int,\n",
    "    discount_percent int,\n",
    "    delivery varchar(2),\n",
    "    primary key(product_code)\n",
    ");\n",
    "desc product;\n",
    "   \n",
    "create table ranking (\n",
    "\tid int unsigned not null auto_increment,\n",
    "    category varchar(50),\n",
    "    subcategory varchar(50),\n",
    "    ranking int not null,\n",
    "    product_code varchar(20) not null,\n",
    "    primary key(id)\n",
    ");\n",
    "desc ranking;\n",
    "\n",
    "insert into product values('215673140', '스위트바니 여름신상5900원~롱원피스티셔츠/긴팔/반팔',23000,6900,70,'F');\n",
    "select* from product;\n",
    "```"
   ]
  },
  {
   "cell_type": "code",
   "execution_count": 6,
   "metadata": {},
   "outputs": [],
   "source": [
    "sql = \"\"\"\n",
    "    create table product (\n",
    "\tproduct_code varchar(20) not null,\n",
    "    title varchar(200) not null,\n",
    "    ori_price int,\n",
    "    discount_price int,\n",
    "    discount_percent int,\n",
    "    delivery varchar(2),\n",
    "    primary key(product_code)\n",
    ");\n",
    "\"\"\""
   ]
  },
  {
   "cell_type": "code",
   "execution_count": 7,
   "metadata": {},
   "outputs": [
    {
     "data": {
      "text/plain": [
       "0"
      ]
     },
     "execution_count": 7,
     "metadata": {},
     "output_type": "execute_result"
    }
   ],
   "source": [
    "ecommerce.execute(sql)"
   ]
  },
  {
   "cell_type": "code",
   "execution_count": 8,
   "metadata": {},
   "outputs": [],
   "source": [
    "db.commit() # 커넥트 수행한 객체 실행한 구문 실제로 실행해! 라는 뜻"
   ]
  },
  {
   "cell_type": "code",
   "execution_count": 9,
   "metadata": {},
   "outputs": [],
   "source": [
    "db.close()"
   ]
  },
  {
   "cell_type": "markdown",
   "metadata": {},
   "source": [
    "### 2."
   ]
  },
  {
   "cell_type": "code",
   "execution_count": 10,
   "metadata": {},
   "outputs": [
    {
     "name": "stdout",
     "output_type": "stream",
     "text": [
      "INSERT INTO product VALUES(\n",
      "    '215673141', '스위트바니 여름신상5900원~롱원피스티셔츠/긴팔/반팔', 23000, 6900, 70, 'F'); \n",
      "INSERT INTO product VALUES(\n",
      "    '215673142', '스위트바니 여름신상5900원~롱원피스티셔츠/긴팔/반팔', 23000, 6900, 70, 'F'); \n",
      "INSERT INTO product VALUES(\n",
      "    '215673143', '스위트바니 여름신상5900원~롱원피스티셔츠/긴팔/반팔', 23000, 6900, 70, 'F'); \n",
      "INSERT INTO product VALUES(\n",
      "    '215673144', '스위트바니 여름신상5900원~롱원피스티셔츠/긴팔/반팔', 23000, 6900, 70, 'F'); \n",
      "INSERT INTO product VALUES(\n",
      "    '215673145', '스위트바니 여름신상5900원~롱원피스티셔츠/긴팔/반팔', 23000, 6900, 70, 'F'); \n",
      "INSERT INTO product VALUES(\n",
      "    '215673146', '스위트바니 여름신상5900원~롱원피스티셔츠/긴팔/반팔', 23000, 6900, 70, 'F'); \n",
      "INSERT INTO product VALUES(\n",
      "    '215673147', '스위트바니 여름신상5900원~롱원피스티셔츠/긴팔/반팔', 23000, 6900, 70, 'F'); \n",
      "INSERT INTO product VALUES(\n",
      "    '215673148', '스위트바니 여름신상5900원~롱원피스티셔츠/긴팔/반팔', 23000, 6900, 70, 'F'); \n",
      "INSERT INTO product VALUES(\n",
      "    '215673149', '스위트바니 여름신상5900원~롱원피스티셔츠/긴팔/반팔', 23000, 6900, 70, 'F'); \n",
      "INSERT INTO product VALUES(\n",
      "    '215673150', '스위트바니 여름신상5900원~롱원피스티셔츠/긴팔/반팔', 23000, 6900, 70, 'F'); \n"
     ]
    }
   ],
   "source": [
    "import pymysql\n",
    "\n",
    "db = pymysql.connect(host='localhost', port=3306, user='root', passwd='Myloxyloto5!', db='ecommerce', charset='utf8')\n",
    "\n",
    "cursor = db.cursor()\n",
    "\n",
    "for index in range(10):\n",
    "    product_code = 215673140 + index + 1\n",
    "    sql = \"\"\"INSERT INTO product VALUES(\n",
    "    '\"\"\" + str(product_code) + \"\"\"', '스위트바니 여름신상5900원~롱원피스티셔츠/긴팔/반팔', 23000, 6900, 70, 'F'); \"\"\"\n",
    "    print (sql)\n",
    "    cursor.execute(sql)\n",
    "\n",
    "db.commit()\n",
    "db.close()"
   ]
  },
  {
   "cell_type": "markdown",
   "metadata": {},
   "source": [
    "디키즈(광주신세계)디키즈 여름시즌오프 5종 택 1 (TST686/TST687/TST688/TST689/TST690)\n",
    "10,000원\n",
    "8,080원\n",
    "19"
   ]
  },
  {
   "cell_type": "code",
   "execution_count": 6,
   "metadata": {},
   "outputs": [],
   "source": [
    "import pymysql\n",
    "\n",
    "cursor = db.cursor()\n",
    "sql = \"\"\"\n",
    "update product set \n",
    "    title = '디키즈(광주신세계)디키즈 여름시즌오프 5종 택 1 (TST686/TST687/TST688/TST689/TST690)', \n",
    "    ori_price = 10000, \n",
    "    discount_price = 8080,\n",
    "    discount_percent = 19\n",
    "    where product_code='215673141'\n",
    "\"\"\"\n",
    "\n",
    "cursor.execute(sql)\n",
    "db.commit()\n",
    "db.close()"
   ]
  },
  {
   "cell_type": "markdown",
   "metadata": {},
   "source": [
    "1. 라이브러리 가져오기\n",
    "2. 접속하기\n",
    "3. 커서 가져오기\n",
    "4. SQL 구문 만들기\n",
    "5. SQL 구문 실행하기\n",
    "6. commit 하기\n",
    "7. close 하기"
   ]
  },
  {
   "cell_type": "code",
   "execution_count": 26,
   "metadata": {},
   "outputs": [],
   "source": [
    "g_title = ['메이킹유 5900~ 원피스/블라우스/니트 빅사이즈','[디키즈](광주신세계)디키즈 여름시즌오프 5종 택 1 (TST686/TST687)',\n",
    "           '[이너리즘]1+1 오픈 백 노와이어 브라탑 브라렛 2장','[예스]예스 외 17%쿠폰 브라+팬티 2종SET 신규물량 업데이트',\n",
    "           '다온샵 신상+여름SLAE 추가10% 청바지/일자/린넨 3XL~','달리샵 딱 찾던 핏 인기 많은 원피스/블라우스',\n",
    "           '[이지바이]창고대방출 마지막재고 등산/아웃도어/트레이닝 49~','풍기인견 파격세일 엄마옷로즈맘 50대중년여성의류',\n",
    "           '시크루즈/시즌오프/원피스/SET상품/빅사이즈','시스터 빅세일 5900~빅사이즈롱티/롱원피스/세트/팬츠']\n",
    "g_price = [33000,10000,23000,30980,33000,33000,16300,43000,43000,19600]\n",
    "g_disp = [9900,8080,6900,9510,9900,9900,4900,12900,12900,5900]\n",
    "g_dispc = [70,19,70,69,70,70,69,70,70,69]\n",
    "\n",
    "\n",
    "import pymysql\n",
    "\n",
    "db = pymysql.connect(host='localhost', port=3306, user='root', passwd='Myloxyloto5!', db='ecommerce', charset='utf8')\n",
    "\n",
    "cursor = db.cursor()\n",
    "sql = \"\"\"\n",
    "update product set \n",
    "    title = '시스터 빅세일 5900~빅사이즈롱티/롱원피스/세트/팬츠', \n",
    "    ori_price = 19600, \n",
    "    discount_price = 5900,\n",
    "    discount_percent = 69\n",
    "    where product_code='215673150'\n",
    "\"\"\"\n",
    "cursor.execute(sql)\n",
    "\n",
    "db.commit()\n",
    "db.close()\n",
    "\n",
    "# 같은 자료형끼리만 연결 가능...\n",
    "# 메모장에 csv 만들어서 넣으면 되었음...ㅋ"
   ]
  },
  {
   "cell_type": "markdown",
   "metadata": {},
   "source": [
    "### 3. foreign key"
   ]
  },
  {
   "cell_type": "code",
   "execution_count": 1,
   "metadata": {},
   "outputs": [
    {
     "data": {
      "text/html": [
       "<div>\n",
       "<style scoped>\n",
       "    .dataframe tbody tr th:only-of-type {\n",
       "        vertical-align: middle;\n",
       "    }\n",
       "\n",
       "    .dataframe tbody tr th {\n",
       "        vertical-align: top;\n",
       "    }\n",
       "\n",
       "    .dataframe thead th {\n",
       "        text-align: right;\n",
       "    }\n",
       "</style>\n",
       "<table border=\"1\" class=\"dataframe\">\n",
       "  <thead>\n",
       "    <tr style=\"text-align: right;\">\n",
       "      <th></th>\n",
       "      <th>userID</th>\n",
       "      <th>name</th>\n",
       "      <th>birthYear</th>\n",
       "      <th>addr</th>\n",
       "      <th>mobile1</th>\n",
       "      <th>mobile2</th>\n",
       "      <th>height</th>\n",
       "      <th>mDate</th>\n",
       "    </tr>\n",
       "  </thead>\n",
       "  <tbody>\n",
       "    <tr>\n",
       "      <th>0</th>\n",
       "      <td>BBK</td>\n",
       "      <td>바비킴</td>\n",
       "      <td>1973</td>\n",
       "      <td>서울</td>\n",
       "      <td>010</td>\n",
       "      <td>00000000</td>\n",
       "      <td>176</td>\n",
       "      <td>2013-05-05</td>\n",
       "    </tr>\n",
       "    <tr>\n",
       "      <th>1</th>\n",
       "      <td>EJW</td>\n",
       "      <td>은지원</td>\n",
       "      <td>1972</td>\n",
       "      <td>경북</td>\n",
       "      <td>011</td>\n",
       "      <td>88888888</td>\n",
       "      <td>174</td>\n",
       "      <td>2014-03-03</td>\n",
       "    </tr>\n",
       "    <tr>\n",
       "      <th>2</th>\n",
       "      <td>JKW</td>\n",
       "      <td>조관우</td>\n",
       "      <td>1965</td>\n",
       "      <td>경기</td>\n",
       "      <td>016</td>\n",
       "      <td>99999999</td>\n",
       "      <td>172</td>\n",
       "      <td>2010-10-10</td>\n",
       "    </tr>\n",
       "    <tr>\n",
       "      <th>3</th>\n",
       "      <td>JYP</td>\n",
       "      <td>조용필</td>\n",
       "      <td>1950</td>\n",
       "      <td>경기</td>\n",
       "      <td>011</td>\n",
       "      <td>44444444</td>\n",
       "      <td>166</td>\n",
       "      <td>2009-04-04</td>\n",
       "    </tr>\n",
       "    <tr>\n",
       "      <th>4</th>\n",
       "      <td>KBS</td>\n",
       "      <td>김범수</td>\n",
       "      <td>1979</td>\n",
       "      <td>경남</td>\n",
       "      <td>011</td>\n",
       "      <td>22222222</td>\n",
       "      <td>173</td>\n",
       "      <td>2012-04-04</td>\n",
       "    </tr>\n",
       "    <tr>\n",
       "      <th>5</th>\n",
       "      <td>KKH</td>\n",
       "      <td>김경호</td>\n",
       "      <td>1971</td>\n",
       "      <td>전남</td>\n",
       "      <td>019</td>\n",
       "      <td>33333333</td>\n",
       "      <td>177</td>\n",
       "      <td>2007-07-07</td>\n",
       "    </tr>\n",
       "    <tr>\n",
       "      <th>6</th>\n",
       "      <td>LJB</td>\n",
       "      <td>임재범</td>\n",
       "      <td>1963</td>\n",
       "      <td>서울</td>\n",
       "      <td>016</td>\n",
       "      <td>66666666</td>\n",
       "      <td>182</td>\n",
       "      <td>2009-09-09</td>\n",
       "    </tr>\n",
       "    <tr>\n",
       "      <th>7</th>\n",
       "      <td>LSG</td>\n",
       "      <td>이승기</td>\n",
       "      <td>1987</td>\n",
       "      <td>서울</td>\n",
       "      <td>011</td>\n",
       "      <td>11111111</td>\n",
       "      <td>182</td>\n",
       "      <td>2008-08-08</td>\n",
       "    </tr>\n",
       "    <tr>\n",
       "      <th>8</th>\n",
       "      <td>SSK</td>\n",
       "      <td>성시경</td>\n",
       "      <td>1979</td>\n",
       "      <td>서울</td>\n",
       "      <td>None</td>\n",
       "      <td>None</td>\n",
       "      <td>186</td>\n",
       "      <td>2013-12-12</td>\n",
       "    </tr>\n",
       "    <tr>\n",
       "      <th>9</th>\n",
       "      <td>YJS</td>\n",
       "      <td>윤종신</td>\n",
       "      <td>1960</td>\n",
       "      <td>경남</td>\n",
       "      <td>None</td>\n",
       "      <td>None</td>\n",
       "      <td>170</td>\n",
       "      <td>2005-05-05</td>\n",
       "    </tr>\n",
       "  </tbody>\n",
       "</table>\n",
       "</div>"
      ],
      "text/plain": [
       "  userID name  birthYear addr mobile1   mobile2  height       mDate\n",
       "0    BBK  바비킴       1973   서울     010  00000000     176  2013-05-05\n",
       "1    EJW  은지원       1972   경북     011  88888888     174  2014-03-03\n",
       "2    JKW  조관우       1965   경기     016  99999999     172  2010-10-10\n",
       "3    JYP  조용필       1950   경기     011  44444444     166  2009-04-04\n",
       "4    KBS  김범수       1979   경남     011  22222222     173  2012-04-04\n",
       "5    KKH  김경호       1971   전남     019  33333333     177  2007-07-07\n",
       "6    LJB  임재범       1963   서울     016  66666666     182  2009-09-09\n",
       "7    LSG  이승기       1987   서울     011  11111111     182  2008-08-08\n",
       "8    SSK  성시경       1979   서울    None      None     186  2013-12-12\n",
       "9    YJS  윤종신       1960   경남    None      None     170  2005-05-05"
      ]
     },
     "execution_count": 1,
     "metadata": {},
     "output_type": "execute_result"
    }
   ],
   "source": [
    "import pymysql\n",
    "import pandas as pd\n",
    "\n",
    "db = pymysql.connect(host='localhost', port=3306, user='root', passwd='Myloxyloto5!', db='sqldb', charset='utf8')\n",
    "sql = 'select* from userTbl'\n",
    "df = pd.read_sql(sql, db)\n",
    "df"
   ]
  },
  {
   "cell_type": "code",
   "execution_count": 2,
   "metadata": {},
   "outputs": [],
   "source": [
    "cursor = db.cursor()"
   ]
  },
  {
   "cell_type": "markdown",
   "metadata": {},
   "source": [
    "SQL = \"select * from buyTbl\"\n",
    "df = pd.read_sql(SQL, db)\n",
    "df"
   ]
  },
  {
   "cell_type": "markdown",
   "metadata": {},
   "source": [
    "두 테이블 간의 관계를 확인해야 합니다.   \n",
    "테이블을 연결해주는 외부키 데이틀 간의 관계를 연결, 제한(?) 해주는 외부 키"
   ]
  },
  {
   "cell_type": "code",
   "execution_count": 4,
   "metadata": {},
   "outputs": [],
   "source": [
    "cursor = db.cursor()\n",
    "SQL_QUERY = \"INSERT INTO buyTbl (userID, prodName, groupName, price, amount) VALUES('BBK', '운동화', '의류', 30, 2);\"\n",
    "cursor.execute(SQL_QUERY)\n",
    "db.commit()"
   ]
  },
  {
   "cell_type": "markdown",
   "metadata": {},
   "source": [
    "user table에 user ID에 새로운 사람을 넣어야겠다고 한다면 먼저 입력할 때 넣어주어야한다."
   ]
  }
 ],
 "metadata": {
  "kernelspec": {
   "display_name": "Python 3",
   "language": "python",
   "name": "python3"
  },
  "language_info": {
   "codemirror_mode": {
    "name": "ipython",
    "version": 3
   },
   "file_extension": ".py",
   "mimetype": "text/x-python",
   "name": "python",
   "nbconvert_exporter": "python",
   "pygments_lexer": "ipython3",
   "version": "3.7.6"
  }
 },
 "nbformat": 4,
 "nbformat_minor": 4
}
